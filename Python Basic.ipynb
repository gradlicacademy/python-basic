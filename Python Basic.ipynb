{
 "cells": [
  {
   "cell_type": "markdown",
   "metadata": {},
   "source": [
    "### Student Registration System"
   ]
  },
  {
   "cell_type": "code",
   "execution_count": 1,
   "metadata": {},
   "outputs": [
    {
     "name": "stdout",
     "output_type": "stream",
     "text": [
      "Enter 'p' to print the student list, 's' to add a new student, 'a' to add a mark to a student, or 'q' to quit. Enter your selection: s\n",
      "Please enter the new student's name: vikas\n",
      "Enter 'p' to print the student list, 's' to add a new student, 'a' to add a mark to a student, or 'q' to quit. Enter your selection: p\n",
      "ID: 0\n",
      "vikas, average mark: 0.\n",
      "Enter 'p' to print the student list, 's' to add a new student, 'a' to add a mark to a student, or 'q' to quit. Enter your selection: a\n",
      "Enter the student ID to add a mark to: 0\n",
      "Enter the new mark to be added: 75\n",
      "Enter 'p' to print the student list, 's' to add a new student, 'a' to add a mark to a student, or 'q' to quit. Enter your selection: a\n",
      "Enter the student ID to add a mark to: 0\n",
      "Enter the new mark to be added: 75\n",
      "Enter 'p' to print the student list, 's' to add a new student, 'a' to add a mark to a student, or 'q' to quit. Enter your selection: p\n",
      "ID: 0\n",
      "vikas, average mark: 75.0.\n",
      "Enter 'p' to print the student list, 's' to add a new student, 'a' to add a mark to a student, or 'q' to quit. Enter your selection: a\n",
      "Enter the student ID to add a mark to: 0\n",
      "Enter the new mark to be added: 30\n",
      "Enter 'p' to print the student list, 's' to add a new student, 'a' to add a mark to a student, or 'q' to quit. Enter your selection: p\n",
      "ID: 0\n",
      "vikas, average mark: 60.0.\n",
      "Enter 'p' to print the student list, 's' to add a new student, 'a' to add a mark to a student, or 'q' to quit. Enter your selection: q\n"
     ]
    }
   ],
   "source": [
    "student_list = []\n",
    "\n",
    "\n",
    "def create_student():\n",
    "    name = input(\"Please enter the new student's name: \")\n",
    "    student_data = {\n",
    "        'name': name,\n",
    "        'marks': []\n",
    "    }\n",
    "\n",
    "    return student_data\n",
    "\n",
    "\n",
    "def add_mark(student, mark):\n",
    "    student['marks'].append(mark)\n",
    "\n",
    "\n",
    "def calculate_average_mark(student):\n",
    "    number = len(student['marks'])\n",
    "    if number == 0:\n",
    "        return 0\n",
    "\n",
    "    total = sum(student['marks'])\n",
    "    return total / number\n",
    "\n",
    "\n",
    "def print_student_details(student):\n",
    "    print(\"{}, average mark: {}.\".format(student['name'],\n",
    "                                         calculate_average_mark(student)))\n",
    "\n",
    "\n",
    "def print_student_list(students):\n",
    "    for i, student in enumerate(students):\n",
    "        print(\"ID: {}\".format(i))\n",
    "        print_student_details(student)\n",
    "\n",
    "\n",
    "def menu():\n",
    "    selection = input(\"Enter 'p' to print the student list, \"\n",
    "                      \"'s' to add a new student, \"\n",
    "                      \"'a' to add a mark to a student, \"\n",
    "                      \"or 'q' to quit. \"\n",
    "                      \"Enter your selection: \")\n",
    "    while selection != 'q':\n",
    "        if selection == 'p':\n",
    "            print_student_list(student_list)\n",
    "        elif selection == 's':\n",
    "            student_list.append(create_student())\n",
    "        elif selection == 'a':\n",
    "            student_id = int(input(\"Enter the student ID to add a mark to: \"))\n",
    "            student = student_list[student_id]\n",
    "            new_mark = int(input(\"Enter the new mark to be added: \"))\n",
    "            add_mark(student, new_mark)\n",
    "\n",
    "        selection = input(\"Enter 'p' to print the student list, \"\n",
    "                          \"'s' to add a new student, \"\n",
    "                          \"'a' to add a mark to a student, \"\n",
    "                          \"or 'q' to quit. \"\n",
    "                          \"Enter your selection: \")\n",
    "\n",
    "menu()\n"
   ]
  },
  {
   "cell_type": "code",
   "execution_count": 2,
   "metadata": {},
   "outputs": [
    {
     "data": {
      "text/plain": [
       "'C:\\\\Users\\\\Vikas'"
      ]
     },
     "execution_count": 2,
     "metadata": {},
     "output_type": "execute_result"
    }
   ],
   "source": [
    "%pwd"
   ]
  },
  {
   "cell_type": "code",
   "execution_count": null,
   "metadata": {},
   "outputs": [],
   "source": []
  }
 ],
 "metadata": {
  "kernelspec": {
   "display_name": "Python 3",
   "language": "python",
   "name": "python3"
  },
  "language_info": {
   "codemirror_mode": {
    "name": "ipython",
    "version": 3
   },
   "file_extension": ".py",
   "mimetype": "text/x-python",
   "name": "python",
   "nbconvert_exporter": "python",
   "pygments_lexer": "ipython3",
   "version": "3.8.3"
  }
 },
 "nbformat": 4,
 "nbformat_minor": 4
}
